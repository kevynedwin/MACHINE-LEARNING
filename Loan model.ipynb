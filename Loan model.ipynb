{
 "cells": [
  {
   "cell_type": "code",
   "execution_count": 1,
   "metadata": {},
   "outputs": [],
   "source": [
    "import pandas as pd\n",
    "import numpy as np\n",
    "import matplotlib.pyplot as plt\n",
    "import seaborn as sns\n",
    "#import missingno as msno\n",
    "%matplotlib inline"
   ]
  },
  {
   "cell_type": "code",
   "execution_count": 2,
   "metadata": {},
   "outputs": [],
   "source": [
    "df= pd.read_csv('oneacre.csv')"
   ]
  },
  {
   "cell_type": "code",
   "execution_count": 5,
   "metadata": {},
   "outputs": [
    {
     "data": {
      "text/html": [
       "<div>\n",
       "<style scoped>\n",
       "    .dataframe tbody tr th:only-of-type {\n",
       "        vertical-align: middle;\n",
       "    }\n",
       "\n",
       "    .dataframe tbody tr th {\n",
       "        vertical-align: top;\n",
       "    }\n",
       "\n",
       "    .dataframe thead th {\n",
       "        text-align: right;\n",
       "    }\n",
       "</style>\n",
       "<table border=\"1\" class=\"dataframe\">\n",
       "  <thead>\n",
       "    <tr style=\"text-align: right;\">\n",
       "      <th></th>\n",
       "      <th>SeasonName</th>\n",
       "      <th>DistrictName</th>\n",
       "      <th>SiteName</th>\n",
       "      <th>GroupName</th>\n",
       "      <th>ClientID</th>\n",
       "      <th>TotalOfSolarBundles</th>\n",
       "      <th>TotalRepayment</th>\n",
       "      <th>TotalCredit</th>\n",
       "      <th>NumRepayments</th>\n",
       "      <th>FirstRepaymentDate</th>\n",
       "      <th>Facilitator</th>\n",
       "      <th>LandSize</th>\n",
       "      <th>NewMember</th>\n",
       "      <th>TotalEnrolledSeasons</th>\n",
       "      <th>RepaymentDate</th>\n",
       "      <th>RepaymentTypeName</th>\n",
       "      <th>RepaymentCategoryName</th>\n",
       "      <th>RunningTotal</th>\n",
       "      <th>default_status</th>\n",
       "    </tr>\n",
       "  </thead>\n",
       "  <tbody>\n",
       "    <tr>\n",
       "      <th>0</th>\n",
       "      <td>LR2016</td>\n",
       "      <td>Butere</td>\n",
       "      <td>Malaha</td>\n",
       "      <td>Fanya Ule</td>\n",
       "      <td>895315</td>\n",
       "      <td>0</td>\n",
       "      <td>10220.0</td>\n",
       "      <td>10220</td>\n",
       "      <td>9</td>\n",
       "      <td>11/13/2015</td>\n",
       "      <td>False</td>\n",
       "      <td>0.50</td>\n",
       "      <td>True</td>\n",
       "      <td>1</td>\n",
       "      <td>20151120</td>\n",
       "      <td>MobileMoney</td>\n",
       "      <td>Revenue</td>\n",
       "      <td>1025.0</td>\n",
       "      <td>True</td>\n",
       "    </tr>\n",
       "    <tr>\n",
       "      <th>1</th>\n",
       "      <td>LR2016</td>\n",
       "      <td>Webuye</td>\n",
       "      <td>Sinoko</td>\n",
       "      <td>Alpha</td>\n",
       "      <td>385693</td>\n",
       "      <td>2</td>\n",
       "      <td>19890.0</td>\n",
       "      <td>19890</td>\n",
       "      <td>13</td>\n",
       "      <td>11/10/2015</td>\n",
       "      <td>False</td>\n",
       "      <td>0.50</td>\n",
       "      <td>False</td>\n",
       "      <td>7</td>\n",
       "      <td>20151110</td>\n",
       "      <td>MobileMoney</td>\n",
       "      <td>Revenue</td>\n",
       "      <td>500.0</td>\n",
       "      <td>True</td>\n",
       "    </tr>\n",
       "    <tr>\n",
       "      <th>2</th>\n",
       "      <td>LR2015</td>\n",
       "      <td>Lugari</td>\n",
       "      <td>Mulimani</td>\n",
       "      <td>Baraka</td>\n",
       "      <td>1635357</td>\n",
       "      <td>1</td>\n",
       "      <td>13220.0</td>\n",
       "      <td>13220</td>\n",
       "      <td>12</td>\n",
       "      <td>11/10/2014</td>\n",
       "      <td>True</td>\n",
       "      <td>0.75</td>\n",
       "      <td>False</td>\n",
       "      <td>6</td>\n",
       "      <td>20141208</td>\n",
       "      <td>MobileMoney</td>\n",
       "      <td>Revenue</td>\n",
       "      <td>9020.0</td>\n",
       "      <td>True</td>\n",
       "    </tr>\n",
       "    <tr>\n",
       "      <th>3</th>\n",
       "      <td>LR2016</td>\n",
       "      <td>Webuye</td>\n",
       "      <td>Ondoti</td>\n",
       "      <td>Timakila</td>\n",
       "      <td>568321</td>\n",
       "      <td>1</td>\n",
       "      <td>9700.0</td>\n",
       "      <td>9700</td>\n",
       "      <td>7</td>\n",
       "      <td>11/16/2015</td>\n",
       "      <td>False</td>\n",
       "      <td>0.50</td>\n",
       "      <td>True</td>\n",
       "      <td>4</td>\n",
       "      <td>20151116</td>\n",
       "      <td>MobileMoney</td>\n",
       "      <td>Revenue</td>\n",
       "      <td>500.0</td>\n",
       "      <td>True</td>\n",
       "    </tr>\n",
       "    <tr>\n",
       "      <th>4</th>\n",
       "      <td>LR2018</td>\n",
       "      <td>Bungoma</td>\n",
       "      <td>Khaoya</td>\n",
       "      <td>Baraka</td>\n",
       "      <td>38603</td>\n",
       "      <td>0</td>\n",
       "      <td>6085.0</td>\n",
       "      <td>6085</td>\n",
       "      <td>8</td>\n",
       "      <td>11/7/2017</td>\n",
       "      <td>False</td>\n",
       "      <td>0.50</td>\n",
       "      <td>False</td>\n",
       "      <td>6</td>\n",
       "      <td>20171130</td>\n",
       "      <td>MobileMoney</td>\n",
       "      <td>Revenue</td>\n",
       "      <td>504.0</td>\n",
       "      <td>True</td>\n",
       "    </tr>\n",
       "  </tbody>\n",
       "</table>\n",
       "</div>"
      ],
      "text/plain": [
       "  SeasonName DistrictName  SiteName  GroupName  ClientID  TotalOfSolarBundles  \\\n",
       "0     LR2016       Butere    Malaha  Fanya Ule    895315                    0   \n",
       "1     LR2016       Webuye    Sinoko      Alpha    385693                    2   \n",
       "2     LR2015       Lugari  Mulimani     Baraka   1635357                    1   \n",
       "3     LR2016       Webuye    Ondoti   Timakila    568321                    1   \n",
       "4     LR2018      Bungoma    Khaoya     Baraka     38603                    0   \n",
       "\n",
       "   TotalRepayment  TotalCredit  NumRepayments FirstRepaymentDate  Facilitator  \\\n",
       "0         10220.0        10220              9         11/13/2015        False   \n",
       "1         19890.0        19890             13         11/10/2015        False   \n",
       "2         13220.0        13220             12         11/10/2014         True   \n",
       "3          9700.0         9700              7         11/16/2015        False   \n",
       "4          6085.0         6085              8          11/7/2017        False   \n",
       "\n",
       "   LandSize  NewMember  TotalEnrolledSeasons  RepaymentDate RepaymentTypeName  \\\n",
       "0      0.50       True                     1       20151120       MobileMoney   \n",
       "1      0.50      False                     7       20151110       MobileMoney   \n",
       "2      0.75      False                     6       20141208       MobileMoney   \n",
       "3      0.50       True                     4       20151116       MobileMoney   \n",
       "4      0.50      False                     6       20171130       MobileMoney   \n",
       "\n",
       "  RepaymentCategoryName  RunningTotal  default_status  \n",
       "0               Revenue        1025.0            True  \n",
       "1               Revenue         500.0            True  \n",
       "2               Revenue        9020.0            True  \n",
       "3               Revenue         500.0            True  \n",
       "4               Revenue         504.0            True  "
      ]
     },
     "execution_count": 5,
     "metadata": {},
     "output_type": "execute_result"
    }
   ],
   "source": [
    "df.head()"
   ]
  },
  {
   "cell_type": "code",
   "execution_count": 6,
   "metadata": {},
   "outputs": [
    {
     "data": {
      "text/html": [
       "<div>\n",
       "<style scoped>\n",
       "    .dataframe tbody tr th:only-of-type {\n",
       "        vertical-align: middle;\n",
       "    }\n",
       "\n",
       "    .dataframe tbody tr th {\n",
       "        vertical-align: top;\n",
       "    }\n",
       "\n",
       "    .dataframe thead th {\n",
       "        text-align: right;\n",
       "    }\n",
       "</style>\n",
       "<table border=\"1\" class=\"dataframe\">\n",
       "  <thead>\n",
       "    <tr style=\"text-align: right;\">\n",
       "      <th></th>\n",
       "      <th>ClientID</th>\n",
       "      <th>TotalOfSolarBundles</th>\n",
       "      <th>TotalRepayment</th>\n",
       "      <th>TotalCredit</th>\n",
       "      <th>NumRepayments</th>\n",
       "      <th>LandSize</th>\n",
       "      <th>TotalEnrolledSeasons</th>\n",
       "      <th>RepaymentDate</th>\n",
       "      <th>RunningTotal</th>\n",
       "    </tr>\n",
       "  </thead>\n",
       "  <tbody>\n",
       "    <tr>\n",
       "      <th>count</th>\n",
       "      <td>6.364640e+05</td>\n",
       "      <td>636464.000000</td>\n",
       "      <td>636464.000000</td>\n",
       "      <td>636464.000000</td>\n",
       "      <td>636464.000000</td>\n",
       "      <td>636464.000000</td>\n",
       "      <td>636464.000000</td>\n",
       "      <td>6.364640e+05</td>\n",
       "      <td>636464.000000</td>\n",
       "    </tr>\n",
       "    <tr>\n",
       "      <th>mean</th>\n",
       "      <td>1.558668e+06</td>\n",
       "      <td>0.525527</td>\n",
       "      <td>9806.143044</td>\n",
       "      <td>9924.282824</td>\n",
       "      <td>17.319060</td>\n",
       "      <td>0.598257</td>\n",
       "      <td>3.008266</td>\n",
       "      <td>2.015941e+07</td>\n",
       "      <td>1072.918496</td>\n",
       "    </tr>\n",
       "    <tr>\n",
       "      <th>std</th>\n",
       "      <td>7.086755e+05</td>\n",
       "      <td>0.552769</td>\n",
       "      <td>4232.559018</td>\n",
       "      <td>4213.006301</td>\n",
       "      <td>9.587718</td>\n",
       "      <td>0.427424</td>\n",
       "      <td>1.838608</td>\n",
       "      <td>1.089743e+04</td>\n",
       "      <td>1078.224055</td>\n",
       "    </tr>\n",
       "    <tr>\n",
       "      <th>min</th>\n",
       "      <td>9.773000e+03</td>\n",
       "      <td>0.000000</td>\n",
       "      <td>0.000000</td>\n",
       "      <td>700.000000</td>\n",
       "      <td>1.000000</td>\n",
       "      <td>0.000000</td>\n",
       "      <td>1.000000</td>\n",
       "      <td>2.014110e+07</td>\n",
       "      <td>-9360.000000</td>\n",
       "    </tr>\n",
       "    <tr>\n",
       "      <th>25%</th>\n",
       "      <td>1.075044e+06</td>\n",
       "      <td>0.000000</td>\n",
       "      <td>6625.000000</td>\n",
       "      <td>6750.000000</td>\n",
       "      <td>11.000000</td>\n",
       "      <td>0.250000</td>\n",
       "      <td>2.000000</td>\n",
       "      <td>2.015112e+07</td>\n",
       "      <td>500.000000</td>\n",
       "    </tr>\n",
       "    <tr>\n",
       "      <th>50%</th>\n",
       "      <td>1.652488e+06</td>\n",
       "      <td>0.000000</td>\n",
       "      <td>9395.000000</td>\n",
       "      <td>9500.000000</td>\n",
       "      <td>15.000000</td>\n",
       "      <td>0.500000</td>\n",
       "      <td>3.000000</td>\n",
       "      <td>2.016113e+07</td>\n",
       "      <td>745.000000</td>\n",
       "    </tr>\n",
       "    <tr>\n",
       "      <th>75%</th>\n",
       "      <td>2.141271e+06</td>\n",
       "      <td>1.000000</td>\n",
       "      <td>12175.000000</td>\n",
       "      <td>12355.000000</td>\n",
       "      <td>21.000000</td>\n",
       "      <td>0.750000</td>\n",
       "      <td>4.000000</td>\n",
       "      <td>2.017112e+07</td>\n",
       "      <td>1250.000000</td>\n",
       "    </tr>\n",
       "    <tr>\n",
       "      <th>max</th>\n",
       "      <td>2.668235e+06</td>\n",
       "      <td>5.000000</td>\n",
       "      <td>41490.000000</td>\n",
       "      <td>44540.000000</td>\n",
       "      <td>339.000000</td>\n",
       "      <td>6.000000</td>\n",
       "      <td>15.000000</td>\n",
       "      <td>2.017121e+07</td>\n",
       "      <td>30765.000000</td>\n",
       "    </tr>\n",
       "  </tbody>\n",
       "</table>\n",
       "</div>"
      ],
      "text/plain": [
       "           ClientID  TotalOfSolarBundles  TotalRepayment    TotalCredit  \\\n",
       "count  6.364640e+05        636464.000000   636464.000000  636464.000000   \n",
       "mean   1.558668e+06             0.525527     9806.143044    9924.282824   \n",
       "std    7.086755e+05             0.552769     4232.559018    4213.006301   \n",
       "min    9.773000e+03             0.000000        0.000000     700.000000   \n",
       "25%    1.075044e+06             0.000000     6625.000000    6750.000000   \n",
       "50%    1.652488e+06             0.000000     9395.000000    9500.000000   \n",
       "75%    2.141271e+06             1.000000    12175.000000   12355.000000   \n",
       "max    2.668235e+06             5.000000    41490.000000   44540.000000   \n",
       "\n",
       "       NumRepayments       LandSize  TotalEnrolledSeasons  RepaymentDate  \\\n",
       "count  636464.000000  636464.000000         636464.000000   6.364640e+05   \n",
       "mean       17.319060       0.598257              3.008266   2.015941e+07   \n",
       "std         9.587718       0.427424              1.838608   1.089743e+04   \n",
       "min         1.000000       0.000000              1.000000   2.014110e+07   \n",
       "25%        11.000000       0.250000              2.000000   2.015112e+07   \n",
       "50%        15.000000       0.500000              3.000000   2.016113e+07   \n",
       "75%        21.000000       0.750000              4.000000   2.017112e+07   \n",
       "max       339.000000       6.000000             15.000000   2.017121e+07   \n",
       "\n",
       "        RunningTotal  \n",
       "count  636464.000000  \n",
       "mean     1072.918496  \n",
       "std      1078.224055  \n",
       "min     -9360.000000  \n",
       "25%       500.000000  \n",
       "50%       745.000000  \n",
       "75%      1250.000000  \n",
       "max     30765.000000  "
      ]
     },
     "execution_count": 6,
     "metadata": {},
     "output_type": "execute_result"
    }
   ],
   "source": [
    "df.describe()"
   ]
  },
  {
   "cell_type": "code",
   "execution_count": 7,
   "metadata": {},
   "outputs": [
    {
     "name": "stdout",
     "output_type": "stream",
     "text": [
      "<class 'pandas.core.frame.DataFrame'>\n",
      "RangeIndex: 636464 entries, 0 to 636463\n",
      "Data columns (total 19 columns):\n",
      "SeasonName               636464 non-null object\n",
      "DistrictName             636464 non-null object\n",
      "SiteName                 636464 non-null object\n",
      "GroupName                636464 non-null object\n",
      "ClientID                 636464 non-null int64\n",
      "TotalOfSolarBundles      636464 non-null int64\n",
      "TotalRepayment           636464 non-null float64\n",
      "TotalCredit              636464 non-null int64\n",
      "NumRepayments            636464 non-null int64\n",
      "FirstRepaymentDate       636464 non-null object\n",
      "Facilitator              636464 non-null bool\n",
      "LandSize                 636464 non-null float64\n",
      "NewMember                636464 non-null bool\n",
      "TotalEnrolledSeasons     636464 non-null int64\n",
      "RepaymentDate            636464 non-null int64\n",
      "RepaymentTypeName        636464 non-null object\n",
      "RepaymentCategoryName    636464 non-null object\n",
      "RunningTotal             636464 non-null float64\n",
      "default_status           636464 non-null bool\n",
      "dtypes: bool(3), float64(3), int64(6), object(7)\n",
      "memory usage: 79.5+ MB\n"
     ]
    }
   ],
   "source": [
    "df.info()"
   ]
  },
  {
   "cell_type": "code",
   "execution_count": 8,
   "metadata": {},
   "outputs": [
    {
     "data": {
      "text/plain": [
       "SeasonName                object\n",
       "DistrictName              object\n",
       "SiteName                  object\n",
       "GroupName                 object\n",
       "ClientID                   int64\n",
       "TotalOfSolarBundles        int64\n",
       "TotalRepayment           float64\n",
       "TotalCredit                int64\n",
       "NumRepayments              int64\n",
       "FirstRepaymentDate        object\n",
       "Facilitator                 bool\n",
       "LandSize                 float64\n",
       "NewMember                   bool\n",
       "TotalEnrolledSeasons       int64\n",
       "RepaymentDate              int64\n",
       "RepaymentTypeName         object\n",
       "RepaymentCategoryName     object\n",
       "RunningTotal             float64\n",
       "default_status              bool\n",
       "dtype: object"
      ]
     },
     "execution_count": 8,
     "metadata": {},
     "output_type": "execute_result"
    }
   ],
   "source": [
    "df.dtypes"
   ]
  },
  {
   "cell_type": "code",
   "execution_count": 9,
   "metadata": {},
   "outputs": [
    {
     "data": {
      "text/plain": [
       "SeasonName               0\n",
       "DistrictName             0\n",
       "SiteName                 0\n",
       "GroupName                0\n",
       "ClientID                 0\n",
       "TotalOfSolarBundles      0\n",
       "TotalRepayment           0\n",
       "TotalCredit              0\n",
       "NumRepayments            0\n",
       "FirstRepaymentDate       0\n",
       "Facilitator              0\n",
       "LandSize                 0\n",
       "NewMember                0\n",
       "TotalEnrolledSeasons     0\n",
       "RepaymentDate            0\n",
       "RepaymentTypeName        0\n",
       "RepaymentCategoryName    0\n",
       "RunningTotal             0\n",
       "default_status           0\n",
       "dtype: int64"
      ]
     },
     "execution_count": 9,
     "metadata": {},
     "output_type": "execute_result"
    }
   ],
   "source": [
    "df.isna().sum()"
   ]
  },
  {
   "cell_type": "code",
   "execution_count": 3,
   "metadata": {},
   "outputs": [],
   "source": [
    "df['ClientID']=df['ClientID'].astype(str)"
   ]
  },
  {
   "cell_type": "code",
   "execution_count": 4,
   "metadata": {},
   "outputs": [],
   "source": [
    "df['FirstRepaymentDate']=df['FirstRepaymentDate'].apply(pd.to_datetime)"
   ]
  },
  {
   "cell_type": "code",
   "execution_count": 5,
   "metadata": {},
   "outputs": [],
   "source": [
    "df['Weekday']=df.FirstRepaymentDate.dt.weekday_name\n",
    "df['Month_Name']=df.FirstRepaymentDate.dt.month\n",
    "df['Quarter']=df.FirstRepaymentDate.dt.quarter\n",
    "df['Day']=df.FirstRepaymentDate.dt.day"
   ]
  },
  {
   "cell_type": "code",
   "execution_count": 6,
   "metadata": {},
   "outputs": [
    {
     "data": {
      "text/plain": [
       "NewMember\n",
       "False    265524\n",
       "True     370940\n",
       "Name: default_status, dtype: int64"
      ]
     },
     "execution_count": 6,
     "metadata": {},
     "output_type": "execute_result"
    }
   ],
   "source": [
    "df.groupby('NewMember').default_status.count()"
   ]
  },
  {
   "cell_type": "code",
   "execution_count": 8,
   "metadata": {},
   "outputs": [
    {
     "data": {
      "image/png": "[encoded data removed]",
      "text/plain": [
       "<Figure size 936x360 with 2 Axes>"
      ]
     },
     "metadata": {
      "needs_background": "light"
     },
     "output_type": "display_data"
    }
   ],
   "source": [
    "fig,ax=plt.subplots(figsize=(13,5))\n",
    "sns.heatmap(df.corr(),annot=True,cmap='cool',linewidth=0.5)\n",
    "plt.show()"
   ]
  },
  {
   "cell_type": "code",
   "execution_count": 9,
   "metadata": {},
   "outputs": [
    {
     "data": {
      "text/plain": [
       "Revenue      636177\n",
       "Bonus           230\n",
       "Write Off        40\n",
       "Trial            14\n",
       "Refund            3\n",
       "Name: RepaymentCategoryName, dtype: int64"
      ]
     },
     "execution_count": 9,
     "metadata": {},
     "output_type": "execute_result"
    }
   ],
   "source": [
    "df.RepaymentCategoryName.value_counts()"
   ]
  },
  {
   "cell_type": "code",
   "execution_count": 10,
   "metadata": {},
   "outputs": [
    {
     "data": {
      "text/plain": [
       "RepaymentTypeName           default_status\n",
       "Auditor                     False                 11\n",
       "                            True                   7\n",
       "Crop Failure Compensation   True                 150\n",
       "                            False                 80\n",
       "Deceased Debt Cancellation  True                  40\n",
       "Dropped Client Refund       True                   2\n",
       "                            False                  1\n",
       "MobileMoney                 True              287790\n",
       "                            False             265506\n",
       "Receipt                     True               59159\n",
       "                            False              23704\n",
       "Trial                       False                 13\n",
       "                            True                   1\n",
       "Name: default_status, dtype: int64"
      ]
     },
     "execution_count": 10,
     "metadata": {},
     "output_type": "execute_result"
    }
   ],
   "source": [
    "df.groupby(['RepaymentTypeName']).default_status.value_counts()"
   ]
  },
  {
   "cell_type": "code",
   "execution_count": 18,
   "metadata": {},
   "outputs": [],
   "source": [
    "dafml2=df.copy()"
   ]
  },
  {
   "cell_type": "code",
   "execution_count": 12,
   "metadata": {},
   "outputs": [
    {
     "data": {
      "text/plain": [
       "1539"
      ]
     },
     "execution_count": 12,
     "metadata": {},
     "output_type": "execute_result"
    }
   ],
   "source": [
    "df.SiteName.nunique()"
   ]
  },
  {
   "cell_type": "code",
   "execution_count": 13,
   "metadata": {},
   "outputs": [
    {
     "data": {
      "text/plain": [
       "0           Malaha\n",
       "1           Sinoko\n",
       "2         Mulimani\n",
       "3           Ondoti\n",
       "4           Khaoya\n",
       "5    Kawuor kawere\n",
       "6         Kapsotik\n",
       "7         Shabwali\n",
       "8           Maraka\n",
       "9        Gavudunyi\n",
       "Name: SiteName, dtype: object"
      ]
     },
     "execution_count": 13,
     "metadata": {},
     "output_type": "execute_result"
    }
   ],
   "source": [
    "df.SiteName.head(10)"
   ]
  },
  {
   "cell_type": "code",
   "execution_count": 19,
   "metadata": {},
   "outputs": [],
   "source": [
    "dafml2=dafml2.drop(columns=['SiteName','GroupName','ClientID','FirstRepaymentDate','RepaymentDate'],axis=1)"
   ]
  },
  {
   "cell_type": "code",
   "execution_count": 20,
   "metadata": {},
   "outputs": [
    {
     "data": {
      "text/plain": [
       "Index(['SeasonName', 'DistrictName', 'TotalOfSolarBundles', 'TotalRepayment',\n",
       "       'TotalCredit', 'NumRepayments', 'Facilitator', 'LandSize', 'NewMember',\n",
       "       'TotalEnrolledSeasons', 'RepaymentTypeName', 'RepaymentCategoryName',\n",
       "       'RunningTotal', 'default_status', 'Weekday', 'Month_Name', 'Quarter',\n",
       "       'Day'],\n",
       "      dtype='object')"
      ]
     },
     "execution_count": 20,
     "metadata": {},
     "output_type": "execute_result"
    }
   ],
   "source": [
    "dafml2.columns"
   ]
  },
  {
   "cell_type": "code",
   "execution_count": 23,
   "metadata": {},
   "outputs": [
    {
     "data": {
      "text/plain": [
       "(636464, 18)"
      ]
     },
     "execution_count": 23,
     "metadata": {},
     "output_type": "execute_result"
    }
   ],
   "source": [
    "dafml2.shape"
   ]
  },
  {
   "cell_type": "code",
   "execution_count": 24,
   "metadata": {},
   "outputs": [],
   "source": [
    "dafml2=dafml2.drop(columns=[ 'Weekday', 'Month_Name', 'Quarter','Day'],axis=1)"
   ]
  },
  {
   "cell_type": "code",
   "execution_count": 25,
   "metadata": {},
   "outputs": [
    {
     "data": {
      "text/plain": [
       "(636464, 14)"
      ]
     },
     "execution_count": 25,
     "metadata": {},
     "output_type": "execute_result"
    }
   ],
   "source": [
    "dafml2.shape"
   ]
  },
  {
   "cell_type": "code",
   "execution_count": 27,
   "metadata": {},
   "outputs": [
    {
     "name": "stdout",
     "output_type": "stream",
     "text": [
      "<class 'pandas.core.frame.DataFrame'>\n",
      "RangeIndex: 636464 entries, 0 to 636463\n",
      "Data columns (total 14 columns):\n",
      "SeasonName               636464 non-null object\n",
      "DistrictName             636464 non-null object\n",
      "TotalOfSolarBundles      636464 non-null int64\n",
      "TotalRepayment           636464 non-null float64\n",
      "TotalCredit              636464 non-null int64\n",
      "NumRepayments            636464 non-null int64\n",
      "Facilitator              636464 non-null bool\n",
      "LandSize                 636464 non-null float64\n",
      "NewMember                636464 non-null bool\n",
      "TotalEnrolledSeasons     636464 non-null int64\n",
      "RepaymentTypeName        636464 non-null object\n",
      "RepaymentCategoryName    636464 non-null object\n",
      "RunningTotal             636464 non-null float64\n",
      "default_status           636464 non-null bool\n",
      "dtypes: bool(3), float64(3), int64(4), object(4)\n",
      "memory usage: 55.2+ MB\n"
     ]
    }
   ],
   "source": [
    "dafml2.info()"
   ]
  },
  {
   "cell_type": "code",
   "execution_count": 28,
   "metadata": {},
   "outputs": [],
   "source": [
    "catsecond=['SeasonName','DistrictName','RepaymentTypeName','RepaymentCategoryName']"
   ]
  },
  {
   "cell_type": "code",
   "execution_count": 29,
   "metadata": {},
   "outputs": [
    {
     "data": {
      "text/plain": [
       "39"
      ]
     },
     "execution_count": 29,
     "metadata": {},
     "output_type": "execute_result"
    }
   ],
   "source": [
    "df.DistrictName.nunique()"
   ]
  },
  {
   "cell_type": "code",
   "execution_count": 30,
   "metadata": {},
   "outputs": [
    {
     "data": {
      "text/plain": [
       "7"
      ]
     },
     "execution_count": 30,
     "metadata": {},
     "output_type": "execute_result"
    }
   ],
   "source": [
    "df.RepaymentTypeName.nunique()"
   ]
  },
  {
   "cell_type": "code",
   "execution_count": 42,
   "metadata": {},
   "outputs": [],
   "source": [
    "#df.RepaymentCategoryName.loc['Write Off']"
   ]
  },
  {
   "cell_type": "code",
   "execution_count": 32,
   "metadata": {},
   "outputs": [],
   "source": [
    "df_last=pd.get_dummies(dafml2,columns=catsecond,drop_first=True)"
   ]
  },
  {
   "cell_type": "code",
   "execution_count": 33,
   "metadata": {},
   "outputs": [
    {
     "data": {
      "text/plain": [
       "Index(['TotalOfSolarBundles', 'TotalRepayment', 'TotalCredit', 'NumRepayments',\n",
       "       'Facilitator', 'LandSize', 'NewMember', 'TotalEnrolledSeasons',\n",
       "       'RunningTotal', 'default_status', 'SeasonName_LR2016',\n",
       "       'SeasonName_LR2017', 'SeasonName_LR2018', 'DistrictName_Belgut',\n",
       "       'DistrictName_Borabu', 'DistrictName_Bungoma', 'DistrictName_Busia',\n",
       "       'DistrictName_Butere', 'DistrictName_Cherangany', 'DistrictName_Chwele',\n",
       "       'DistrictName_Gem', 'DistrictName_Green Shamba', 'DistrictName_Gucha',\n",
       "       'DistrictName_Hamisi', 'DistrictName_KENYA STAFF',\n",
       "       'DistrictName_Kabiyet', 'DistrictName_Kabondo',\n",
       "       'DistrictName_Kakamega (South)', 'DistrictName_Kakamega B (North)',\n",
       "       'DistrictName_Kapsabet', 'DistrictName_Kimilili', 'DistrictName_Kisii',\n",
       "       'DistrictName_Lugari', 'DistrictName_Masaba', 'DistrictName_Matete',\n",
       "       'DistrictName_Migori', 'DistrictName_Mumias', 'DistrictName_Nambale',\n",
       "       'DistrictName_Ndalu', 'DistrictName_Nyamira', 'DistrictName_Rachuonyo',\n",
       "       'DistrictName_Rongo', 'DistrictName_Saboti', 'DistrictName_Sagana',\n",
       "       'DistrictName_Serabo', 'DistrictName_Sirisia', 'DistrictName_Suneka',\n",
       "       'DistrictName_Teso', 'DistrictName_Tinderet', 'DistrictName_Vihiga',\n",
       "       'DistrictName_Webuye', 'RepaymentTypeName_Crop Failure Compensation',\n",
       "       'RepaymentTypeName_Deceased Debt Cancellation',\n",
       "       'RepaymentTypeName_Dropped Client Refund',\n",
       "       'RepaymentTypeName_MobileMoney', 'RepaymentTypeName_Receipt',\n",
       "       'RepaymentTypeName_Trial', 'RepaymentCategoryName_Refund',\n",
       "       'RepaymentCategoryName_Revenue', 'RepaymentCategoryName_Trial',\n",
       "       'RepaymentCategoryName_Write Off'],\n",
       "      dtype='object')"
      ]
     },
     "execution_count": 33,
     "metadata": {},
     "output_type": "execute_result"
    }
   ],
   "source": [
    "df_last.columns"
   ]
  },
  {
   "cell_type": "code",
   "execution_count": 54,
   "metadata": {},
   "outputs": [
    {
     "data": {
      "text/plain": [
       "TotalOfSolarBundles                               int64\n",
       "TotalRepayment                                  float64\n",
       "TotalCredit                                       int64\n",
       "NumRepayments                                     int64\n",
       "Facilitator                                        bool\n",
       "LandSize                                        float64\n",
       "NewMember                                          bool\n",
       "TotalEnrolledSeasons                              int64\n",
       "RunningTotal                                    float64\n",
       "default_status                                     bool\n",
       "SeasonName_LR2016                                 uint8\n",
       "SeasonName_LR2017                                 uint8\n",
       "SeasonName_LR2018                                 uint8\n",
       "DistrictName_Belgut                               uint8\n",
       "DistrictName_Borabu                               uint8\n",
       "DistrictName_Bungoma                              uint8\n",
       "DistrictName_Busia                                uint8\n",
       "DistrictName_Butere                               uint8\n",
       "DistrictName_Cherangany                           uint8\n",
       "DistrictName_Chwele                               uint8\n",
       "DistrictName_Gem                                  uint8\n",
       "DistrictName_Green Shamba                         uint8\n",
       "DistrictName_Gucha                                uint8\n",
       "DistrictName_Hamisi                               uint8\n",
       "DistrictName_KENYA STAFF                          uint8\n",
       "DistrictName_Kabiyet                              uint8\n",
       "DistrictName_Kabondo                              uint8\n",
       "DistrictName_Kakamega (South)                     uint8\n",
       "DistrictName_Kakamega B (North)                   uint8\n",
       "DistrictName_Kapsabet                             uint8\n",
       "                                                 ...   \n",
       "DistrictName_Kisii                                uint8\n",
       "DistrictName_Lugari                               uint8\n",
       "DistrictName_Masaba                               uint8\n",
       "DistrictName_Matete                               uint8\n",
       "DistrictName_Migori                               uint8\n",
       "DistrictName_Mumias                               uint8\n",
       "DistrictName_Nambale                              uint8\n",
       "DistrictName_Ndalu                                uint8\n",
       "DistrictName_Nyamira                              uint8\n",
       "DistrictName_Rachuonyo                            uint8\n",
       "DistrictName_Rongo                                uint8\n",
       "DistrictName_Saboti                               uint8\n",
       "DistrictName_Sagana                               uint8\n",
       "DistrictName_Serabo                               uint8\n",
       "DistrictName_Sirisia                              uint8\n",
       "DistrictName_Suneka                               uint8\n",
       "DistrictName_Teso                                 uint8\n",
       "DistrictName_Tinderet                             uint8\n",
       "DistrictName_Vihiga                               uint8\n",
       "DistrictName_Webuye                               uint8\n",
       "RepaymentTypeName_Crop Failure Compensation       uint8\n",
       "RepaymentTypeName_Deceased Debt Cancellation      uint8\n",
       "RepaymentTypeName_Dropped Client Refund           uint8\n",
       "RepaymentTypeName_MobileMoney                     uint8\n",
       "RepaymentTypeName_Receipt                         uint8\n",
       "RepaymentTypeName_Trial                           uint8\n",
       "RepaymentCategoryName_Refund                      uint8\n",
       "RepaymentCategoryName_Revenue                     uint8\n",
       "RepaymentCategoryName_Trial                       uint8\n",
       "RepaymentCategoryName_Write Off                   uint8\n",
       "Length: 61, dtype: object"
      ]
     },
     "execution_count": 54,
     "metadata": {},
     "output_type": "execute_result"
    }
   ],
   "source": [
    "df_last.dtypes"
   ]
  },
  {
   "cell_type": "code",
   "execution_count": null,
   "metadata": {},
   "outputs": [],
   "source": [
    "df_last=pd.get_dummi"
   ]
  },
  {
   "cell_type": "code",
   "execution_count": 52,
   "metadata": {},
   "outputs": [
    {
     "data": {
      "text/plain": [
       "(636464, 61)"
      ]
     },
     "execution_count": 52,
     "metadata": {},
     "output_type": "execute_result"
    }
   ],
   "source": [
    "df_last.shape"
   ]
  },
  {
   "cell_type": "code",
   "execution_count": 57,
   "metadata": {},
   "outputs": [],
   "source": [
    "from sklearn.model_selection import train_test_split"
   ]
  },
  {
   "cell_type": "code",
   "execution_count": 58,
   "metadata": {},
   "outputs": [],
   "source": [
    "X=df_last.drop(columns=['default_status'],axis=1)\n",
    "y=df_last['default_status']\n",
    "X_train, X_test, y_train, y_test = train_test_split(X, y, test_size=0.3, random_state=101)"
   ]
  },
  {
   "cell_type": "code",
   "execution_count": null,
   "metadata": {},
   "outputs": [],
   "source": [
    "from sklearn.preprocessing import StandardScaler\n",
    "\n",
    "scaler= StandardScaler().fit(X_train)\n",
    "\n",
    "X_train="
   ]
  },
  {
   "cell_type": "code",
   "execution_count": 61,
   "metadata": {},
   "outputs": [],
   "source": [
    "#df_last.head()"
   ]
  },
  {
   "cell_type": "code",
   "execution_count": 63,
   "metadata": {},
   "outputs": [],
   "source": [
    "from sklearn.ensemble import RandomForestClassifier\n",
    "\n",
    "rfc=RandomForestClassifier(n_estimators=150)"
   ]
  },
  {
   "cell_type": "code",
   "execution_count": 64,
   "metadata": {},
   "outputs": [
    {
     "data": {
      "text/plain": [
       "RandomForestClassifier(bootstrap=True, class_weight=None, criterion='gini',\n",
       "                       max_depth=None, max_features='auto', max_leaf_nodes=None,\n",
       "                       min_impurity_decrease=0.0, min_impurity_split=None,\n",
       "                       min_samples_leaf=1, min_samples_split=2,\n",
       "                       min_weight_fraction_leaf=0.0, n_estimators=150,\n",
       "                       n_jobs=None, oob_score=False, random_state=None,\n",
       "                       verbose=0, warm_start=False)"
      ]
     },
     "execution_count": 64,
     "metadata": {},
     "output_type": "execute_result"
    }
   ],
   "source": [
    "rfc.fit(X_train,y_train)"
   ]
  },
  {
   "cell_type": "code",
   "execution_count": null,
   "metadata": {},
   "outputs": [],
   "source": [
    "predictions2=()"
   ]
  },
  {
   "cell_type": "code",
   "execution_count": null,
   "metadata": {},
   "outputs": [],
   "source": []
  },
  {
   "cell_type": "code",
   "execution_count": null,
   "metadata": {},
   "outputs": [],
   "source": []
  }
 ],
 "metadata": {
  "kernelspec": {
   "display_name": "Python 3",
   "language": "python",
   "name": "python3"
  },
  "language_info": {
   "codemirror_mode": {
    "name": "ipython",
    "version": 3
   },
   "file_extension": ".py",
   "mimetype": "text/x-python",
   "name": "python",
   "nbconvert_exporter": "python",
   "pygments_lexer": "ipython3",
   "version": "3.7.3"
  }
 },
 "nbformat": 4,
 "nbformat_minor": 2
}
